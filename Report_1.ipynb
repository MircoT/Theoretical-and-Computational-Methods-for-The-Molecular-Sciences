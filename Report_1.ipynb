{
 "cells": [
  {
   "cell_type": "markdown",
   "metadata": {},
   "source": [
    "# Calculation of the deflection angle in a two-body system\n",
    "---\n",
    "\n",
    "The problem deals with the calculation of the deflection angle **θ** of two colliding structureless bodies under the effect of the potential **V(r)** (with **r** being the distance between the two bodies) without integrating the related Hamilton equations.\n",
    "\n",
    "Such solution is obtained by transforming the 12 dimensional two body problem into that of a single particle of reduced mass **µ** using the center of mass frame and imposing the conservation of Energy **E** and the total angular momentum (see *A. Laganà and G.A. Parker, Basic theory and computing for understanding chemical reactions, Springer* (in the press)).\n",
    "\n",
    "The expression for θ is:"
   ]
  },
  {
   "cell_type": "markdown",
   "metadata": {},
   "source": [
    "$$\\theta=2b\\int_{a}^{\\infty} \\frac{dr}{r^2 \\sqrt{1-b^2 / r^2 - V(r) / E}} $$"
   ]
  },
  {
   "cell_type": "markdown",
   "metadata": {},
   "source": [
    "in which **b** is the impact parameter.\n",
    "\n",
    "To follow, we compare first the analytical solution:"
   ]
  },
  {
   "cell_type": "markdown",
   "metadata": {},
   "source": [
    "$$ \\theta= 2 arcsin(\\frac{1}{\\sqrt{1+4b^2E^2}}) $$"
   ]
  },
  {
   "cell_type": "markdown",
   "metadata": {},
   "source": [
    "for the potential $V(r) = \\frac{1}{r}$ with the numerical quadrature of the integral given above.\n",
    "\n",
    "Next we can see the corresponding  Python code whose dependence on the impact parameter:"
   ]
  },
  {
   "cell_type": "code",
   "execution_count": 1,
   "metadata": {
    "collapsed": false
   },
   "outputs": [
    {
     "name": "stdout",
     "output_type": "stream",
     "text": [
      "Calculus may take some time...\n",
      "b = 0\ttheta = 180.0\tanalytic = 180.0\n",
      "b = 1\ttheta = 157.71171695\tanalytic = 157.380135052\n",
      "b = 2\ttheta = 137.088104868\tanalytic = 136.397181027\n",
      "b = 3\ttheta = 119.092114716\tanalytic = 118.072486936\n",
      "b = 4\ttheta = 104.062716039\tanalytic = 102.680383492\n",
      "b = 5\ttheta = 91.790209612\tanalytic = 90.0\n",
      "b = 6\ttheta = 81.7489129414\tanalytic = 79.6111421845\n",
      "b = 7\ttheta = 73.5160244904\tanalytic = 71.0753555839\n",
      "b = 8\ttheta = 66.6812778658\tanalytic = 64.0107664162\n",
      "b = 9\ttheta = 61.0917587125\tanalytic = 58.1092081982\n",
      "b = 10\ttheta = 56.6305378746\tanalytic = 53.1301023542\n",
      "b = 11\ttheta = 52.7540856605\tanalytic = 48.8879095608\n",
      "b = 12\ttheta = 49.3995915407\tanalytic = 45.2397298961\n",
      "b = 13\ttheta = 46.5965056491\tanalytic = 42.0750220508\n",
      "b = 14\ttheta = 44.1895732922\tanalytic = 39.3076481161\n",
      "b = 15\ttheta = 42.0375276228\tanalytic = 36.8698976458\n"
     ]
    },
    {
     "data": {
      "text/plain": [
       "<matplotlib.figure.Figure at 0x10d04c550>"
      ]
     },
     "execution_count": 1,
     "metadata": {},
     "output_type": "execute_result"
    },
    {
     "data": {
      "image/png": "[encoded data removed]",
      "text/plain": [
       "<matplotlib.figure.Figure at 0x10d704d90>"
      ]
     },
     "metadata": {},
     "output_type": "display_data"
    },
    {
     "data": {
      "text/plain": [
       "<matplotlib.figure.Figure at 0x10d04c550>"
      ]
     },
     "metadata": {},
     "output_type": "display_data"
    }
   ],
   "source": [
    "%matplotlib inline\n",
    "\n",
    "from matplotlib import pyplot as plt\n",
    "from matplotlib import patches as mpatches\n",
    "from math import sqrt, degrees, asin\n",
    "\n",
    "MAX_DIVISIONS = 21\n",
    "MAX_ITERATIONS = 21\n",
    "PRECISION_DELTA = 0.00000002\n",
    "DELTA = 16.0\n",
    "\n",
    "\n",
    "def analytic_evaluation(var_b, var_e):\n",
    "    \"\"\"Analytic function of theta integral.\"\"\"\n",
    "    return 2.0 * asin(1 / (sqrt(1 + 4 * var_b ** 2 * var_e ** 2)))\n",
    "\n",
    "\n",
    "def integral_func(var_r, var_b, var_e):\n",
    "    \"\"\"Integral to calculate.\"\"\"\n",
    "    potential = lambda var_r: 1.0 / var_r\n",
    "    try:\n",
    "        return 1.0 / (\n",
    "            var_r**2 * sqrt(1 - (var_b**2 / var_r**2) - (\n",
    "                potential(var_r) / var_e)))\n",
    "    except ValueError:\n",
    "        return 0.0\n",
    "    except ZeroDivisionError:\n",
    "        return 0.0\n",
    "\n",
    "\n",
    "def finite_integral(var_up, var_to, var_b, var_e):\n",
    "    \"\"\"Finite Riemann integral.\"\"\"\n",
    "    prev_sum = 0.0\n",
    "\n",
    "    for i in range(MAX_DIVISIONS):\n",
    "\n",
    "        step = (var_to-var_up) / 2**i\n",
    "        partial_sum = 0.0\n",
    "        cur_step = var_up + step\n",
    "\n",
    "        while cur_step <= var_to:\n",
    "\n",
    "            f_x = step * integral_func(cur_step - (step/2.0), var_b, var_e)\n",
    "            partial_sum += f_x\n",
    "            cur_step += step\n",
    "\n",
    "        if prev_sum != 0.0 and abs(prev_sum - partial_sum) < PRECISION_DELTA:\n",
    "            break\n",
    "\n",
    "        prev_sum = partial_sum\n",
    "\n",
    "    return partial_sum\n",
    "\n",
    "\n",
    "def integral_to_infinite(var_up, var_b, var_e):\n",
    "    \"\"\"Riemann integral open at right plus final multiplication.\"\"\"\n",
    "    prev_res = 0.0\n",
    "\n",
    "    for i in range(MAX_ITERATIONS):\n",
    "\n",
    "        var_to = var_up + DELTA\n",
    "        partial_res = finite_integral(var_up, var_to, var_b, var_e)\n",
    "\n",
    "        if prev_res != 0.0 and partial_res != 0.0\\\n",
    "                and partial_res < PRECISION_DELTA:\n",
    "            break\n",
    "\n",
    "        prev_res += partial_res\n",
    "        var_up = var_to\n",
    "\n",
    "    return (2.0 * var_b) * prev_res\n",
    "\n",
    "\n",
    "var_a = 0.0\n",
    "var_e = 0.1\n",
    "\n",
    "points_x = []\n",
    "points_y = []\n",
    "points_y_a = []\n",
    "\n",
    "print(\"Calculus may take some time...\")\n",
    "\n",
    "for var_b in range(0, 16):\n",
    "    points_x.append(var_b)\n",
    "\n",
    "    final_theta = 180.0 - degrees(abs(integral_to_infinite(var_a, var_b, var_e)))\n",
    "    analytic = degrees(analytic_evaluation(var_b, var_e))\n",
    "\n",
    "    print(\"b = {}\\ttheta = {}\\tanalytic = {}\".format(var_b, final_theta, analytic))\n",
    "\n",
    "    points_y.append(final_theta)\n",
    "    points_y_a.append(analytic)\n",
    "\n",
    "plt.ylabel('teta')\n",
    "plt.xlabel('b')\n",
    "plt.plot(points_x, points_y, 'r--')\n",
    "plt.plot(points_x, points_y, 'ro')\n",
    "plt.plot(points_x, points_y_a, 'b--')\n",
    "plt.plot(points_x, points_y_a, 'bo')\n",
    "red_line = mpatches.Patch(color='red', label='theta value')\n",
    "blue_line = mpatches.Patch(color='blue', label='analytic value')\n",
    "plt.legend(handles=[red_line, blue_line])\n",
    "plt.grid(True)\n",
    "plt.figure()"
   ]
  },
  {
   "cell_type": "markdown",
   "metadata": {},
   "source": [
    "The implementation of the program gave us values similar to the analytic function. \n",
    "\n",
    "The major problems arouse from:\n",
    "\n",
    "* finding conditions to terminate the computation\n",
    "* finding the appropriate error tolerance\n",
    "* deciding how and how many the interactions have to be"
   ]
  },
  {
   "cell_type": "markdown",
   "metadata": {},
   "source": [
    "For the generic potential V(r) not having an analytical solution we did not consider to use the above described Python script because its performance is low due to the limitation of Python VM and of its interpreted nature.\n",
    "\n",
    "We considered instead to use a combination of the **C language** and **Python**. This is also the first step to implement the code using C MPI API for parallel runs."
   ]
  },
  {
   "cell_type": "markdown",
   "metadata": {},
   "source": [
    "First of all the C code:"
   ]
  },
  {
   "cell_type": "markdown",
   "metadata": {},
   "source": [
    "```c\n",
    "#ifdef _WIN32\n",
    "    #define _USE_MATH_DEFINES\n",
    "#endif\n",
    "\n",
    "#include <stdio.h>\n",
    "#include <math.h>\n",
    "\n",
    "const size_t MAX_DIVISIONS = 21;\n",
    "const size_t MAX_ITERATIONS = 21;\n",
    "const double PRECISION_DELTA = 0.00000001;\n",
    "const double DELTA = 16.0;\n",
    "\n",
    "double potential(double r)\n",
    "{\n",
    "    return 1.0/r;\n",
    "}\n",
    "\n",
    "double function(double r, double b, double E)\n",
    "{  \n",
    "    return 1.0 / (pow(r, 2) * sqrt(1 - (pow(b, 2) / pow(r, 2)) - (potential(r) / E)));\n",
    "}\n",
    "\n",
    "double finite_integral(double up, double to, double b, double E)\n",
    "{\n",
    "    double cur_step,\n",
    "           step,\n",
    "           prev_sum,\n",
    "           partial_sum,\n",
    "           f_x;\n",
    "    size_t i;\n",
    "\n",
    "    prev_sum = 0.0;\n",
    "\n",
    "    for(i = 0; i != MAX_DIVISIONS; ++i)\n",
    "    {\n",
    "        step = (to-up)/pow(2, i);\n",
    "        partial_sum = 0.0;\n",
    "\n",
    "        for(cur_step = up + step; cur_step <= to; cur_step += step) {\n",
    "            f_x = step * function(cur_step - (step/2.0), b, E);\n",
    "            \n",
    "            // when f_x is nan\n",
    "            // if f_x is nan, f_x != f_x will be true\n",
    "            if(f_x == f_x) {  \n",
    "                partial_sum = partial_sum + f_x;\n",
    "            }\n",
    "        }\n",
    "\n",
    "        if(prev_sum != 0.0 && fabs(prev_sum - partial_sum) < PRECISION_DELTA) break;\n",
    "        prev_sum = partial_sum;\n",
    "    }\n",
    "    \n",
    "    return partial_sum;\n",
    "}\n",
    "\n",
    "double integral_to_infinite(double a, double b, double E)\n",
    "{\n",
    "    double to,\n",
    "           prev_res,\n",
    "           partial_res;\n",
    "    size_t i;\n",
    "\n",
    "    prev_res = 0.0;\n",
    "    \n",
    "    for(i = 1; i != pow(2, MAX_ITERATIONS); ++i)\n",
    "    {\n",
    "        to = a + DELTA;\n",
    "        partial_res = finite_integral(a, to, b, E);\n",
    "\n",
    "        if(prev_res != 0.0 && partial_res != 0.0 && partial_res < PRECISION_DELTA)\n",
    "        {\n",
    "            prev_res += partial_res;\n",
    "            break;\n",
    "        }\n",
    "\n",
    "        prev_res += partial_res;\n",
    "        a = to;\n",
    "    }\n",
    "\n",
    "    return (2.0 * b) * prev_res;\n",
    "}\n",
    "\n",
    "double to_degrees(double radians) {\n",
    "    return 180.0 - radians * (180.0 / M_PI);\n",
    "}\n",
    "```"
   ]
  },
  {
   "cell_type": "markdown",
   "metadata": {},
   "source": [
    "The approach is the same of the Python code given above. Now we can see how to implement this code with Python:"
   ]
  },
  {
   "cell_type": "markdown",
   "metadata": {},
   "source": [
    "```python\n",
    "from cffi import FFI\n",
    "from matplotlib import pyplot as plt\n",
    "from matplotlib import patches as mpatches\n",
    "from ctypes import c_double\n",
    "from math import asin, sqrt, degrees\n",
    "\n",
    "\n",
    "def analytic_evaluation(var_b, var_e):\n",
    "    \"\"\"Analytic function of theta integral.\"\"\"\n",
    "    return 2.0 * asin(1 / (sqrt(1 + 4 * float(var_b) ** 2 * float(var_e) ** 2)))\n",
    "\n",
    "\n",
    "def range_f(start, end, step):\n",
    "    \"\"\"Create a list of double values.\"\"\"\n",
    "    end = c_double(end)\n",
    "    ffi = FFI()\n",
    "    start = c_double(start)\n",
    "    while start.value <= end.value:\n",
    "        yield ffi.cast(\"double\", start.value)\n",
    "        start.value = start.value + c_double(step).value\n",
    "\n",
    "\n",
    "def main():\n",
    "    \"\"\"Program main.\"\"\"\n",
    "    ffi = FFI()\n",
    "    ffi.cdef(\"\"\"\n",
    "double integral_to_infinite(double a, double b, double E);\n",
    "double to_degrees(double radians);\n",
    "\n",
    "\"\"\")\n",
    "    lib = ffi.verify(\"\"\"\n",
    "#include \"tetaQuad.h\"\n",
    "\"\"\", include_dirs=[\".\"], extra_compile_args=[\"-O3\"])\n",
    "\n",
    "    var_e = ffi.cast(\"double\", 0.1)\n",
    "    var_a = ffi.cast(\"double\", 0.0)\n",
    "\n",
    "    points_x = []\n",
    "    points_y = []\n",
    "    points_y_a = []\n",
    "\n",
    "    print(\"Calculus may take some time...\")\n",
    "\n",
    "    for var_b in range_f(0.0, 100, 0.5):\n",
    "        points_x.append(var_b)\n",
    "        rad = lib.integral_to_infinite(var_a, var_b, var_e)\n",
    "        theta = lib.to_degrees(abs(rad))\n",
    "        analytic = degrees(analytic_evaluation(var_b, var_e))\n",
    "\n",
    "        print(\"b = {}\\ttheta = {}\\tanalytic = {}\".format(\n",
    "            float(var_b), theta, analytic))\n",
    "\n",
    "        points_y.append(theta)\n",
    "        points_y_a.append(analytic)\n",
    "\n",
    "    plt.ylabel('teta')\n",
    "    plt.xlabel('b')\n",
    "    plt.plot(points_x, points_y, 'ro')\n",
    "    plt.plot(points_x, points_y_a, 'b--')\n",
    "    red_line = mpatches.Patch(color='red', label='theta value')\n",
    "    blue_line = mpatches.Patch(color='blue', label='analytic value')\n",
    "    plt.legend(handles=[red_line, blue_line])\n",
    "    plt.grid(True)\n",
    "    plt.show()\n",
    "\n",
    "\n",
    "if __name__ == '__main__':\n",
    "    main()\n",
    "\n",
    "```"
   ]
  },
  {
   "cell_type": "markdown",
   "metadata": {},
   "source": [
    "<img src=\"./img/thetaEvaluation_cffi_repulsive.png\" />"
   ]
  },
  {
   "cell_type": "markdown",
   "metadata": {},
   "source": [
    "As we can see now the performance that we reached with the **C implementation** gave us a better chart in less than a minute. Obviously this is a start point to improve the code with a parallel implementation, searching for the tasks that can run concurrently.\n",
    "\n",
    "Here we consider the **Lennard-Jones potential** (attractive-repulsive):"
   ]
  },
  {
   "cell_type": "markdown",
   "metadata": {
    "collapsed": true
   },
   "source": [
    "<img src=\"./img/thetaEvaluation_cffi_lennardjones.png\" />"
   ]
  },
  {
   "cell_type": "markdown",
   "metadata": {},
   "source": [
    "The chart values are almost as we expected, and still there is room for improvement. For example, we can improve precision by refining the quadrature method especially when using more complex kinds of potential functions.\n",
    "\n",
    "The unit of measure used are submultiples of the *m* and *s*, respectively *nanometer* ($10^{-9}m$) and *millisecond* ($10^{-3}s$). For the potential we can misure it in *millielectron* ($10^{-3}eV, meV$)."
   ]
  }
 ],
 "metadata": {
  "kernelspec": {
   "display_name": "Python 2",
   "language": "python",
   "name": "python2"
  },
  "language_info": {
   "codemirror_mode": {
    "name": "ipython",
    "version": 2
   },
   "file_extension": ".py",
   "mimetype": "text/x-python",
   "name": "python",
   "nbconvert_exporter": "python",
   "pygments_lexer": "ipython2",
   "version": "2.7.11"
  }
 },
 "nbformat": 4,
 "nbformat_minor": 0
}
