{
 "cells": [
  {
   "cell_type": "markdown",
   "metadata": {},
   "source": [
    "# Calculation of the path in a two-body interaction with polar system\n",
    "---\n",
    "\n",
    "Now we have to deal with the recostruction of the path route by a body that interact with another body. The system we want to analyse is the polar system in wich one of the two body is the center of the system and so the center of the interaction.\n",
    "\n",
    "To have a proper view of the problem we can see the model in the figure below:\n"
   ]
  },
  {
   "cell_type": "markdown",
   "metadata": {},
   "source": [
    "<img src=\"./img/polar_system_model.png\">"
   ]
  },
  {
   "cell_type": "markdown",
   "metadata": {},
   "source": [
    "To manage well the problem we have to handle well the velocity projection and the differential that represent the evolution of the body during the time.\n",
    "\n",
    "The projections are important because in this example we will reconstruct the path in a Cartesian plane, so we have to convert the polar system in Cartesian coordinates, that have the center of the plane as the center of the polar system (so the center of the interaction).\n",
    "\n",
    "The differential equation that we have to deal with are these:"
   ]
  },
  {
   "cell_type": "markdown",
   "metadata": {},
   "source": [
    "$$ \\frac{dp_{r}}{dt} = \\frac{-\\partial H}{\\partial r} = \\frac{-dV}{dr} $$\n",
    "\n",
    "$$ \\frac{dr}{dt} = \\frac{\\partial H}{\\partial p_{r}} = \\frac{p_{r}}{\\mu} $$\n",
    "\n",
    "$$ \\frac{dp_{\\theta}}{dt} = \\frac{-\\partial H}{\\partial \\theta} = 0 $$\n",
    "\n",
    "$$ \\frac{\\theta}{dt} = \\frac{\\partial H}{\\partial p_{\\theta}} = \\frac{p_{\\theta}}{\\mu} $$"
   ]
  },
  {
   "cell_type": "markdown",
   "metadata": {},
   "source": [
    "<hr>\n",
    "\n",
    "$$ \\frac{dp_{\\varphi}}{dt} = \\frac{-\\partial H}{\\partial \\varphi} = 0 $$\n",
    "\n",
    "$$ \\frac{d\\varphi}{dt} = \\frac{\\partial H}{\\partial p_{\\varphi}} = const $$\n",
    "\n",
    "<hr>\n",
    "\n",
    "$$ H = \\frac{v_{r}^{2} + r^{2}v_{\\theta}^{2}}{2\\mu} + V(r) = \\frac{p_{r}^{2} + p_{\\theta}^{2}}{2\\mu} + V(r) $$"
   ]
  },
  {
   "cell_type": "markdown",
   "metadata": {},
   "source": [
    "The potential $V(r)$ will be $\\frac{1}{r}$.\n",
    "\n",
    "Next we can see the Python code that calculates some paths changing the starting angle $\\theta$:"
   ]
  },
  {
   "cell_type": "code",
   "execution_count": 18,
   "metadata": {
    "collapsed": false
   },
   "outputs": [
    {
     "name": "stdout",
     "output_type": "stream",
     "text": [
      "Calculate deg 0.0\n",
      "Calculate deg 5.0\n",
      "Calculate deg 10.0\n",
      "Calculate deg 15.0\n",
      "Calculate deg 20.0\n",
      "Calculate deg 25.0\n",
      "Calculate deg 30.0\n",
      "Calculate deg 35.0\n"
     ]
    },
    {
     "data": {
      "text/plain": [
       "<matplotlib.figure.Figure at 0x121328150>"
      ]
     },
     "execution_count": 18,
     "metadata": {},
     "output_type": "execute_result"
    },
    {
     "data": {
      "image/png": "[encoded data removed]",
      "text/plain": [
       "<matplotlib.figure.Figure at 0x10bcbddd0>"
      ]
     },
     "metadata": {},
     "output_type": "display_data"
    },
    {
     "data": {
      "text/plain": [
       "<matplotlib.figure.Figure at 0x121328150>"
      ]
     },
     "metadata": {},
     "output_type": "display_data"
    }
   ],
   "source": [
    "%matplotlib inline\n",
    "\n",
    "from mpmath import sin, cos, sec, degrees, radians, pi\n",
    "from matplotlib import pyplot as plt\n",
    "from matplotlib import patches as mpatches\n",
    "\n",
    "initial_distance = 1.0\n",
    "theta_i = radians(0.0)\n",
    "\n",
    "for step in range(8):\n",
    "    points_x = []\n",
    "    points_y = []\n",
    "\n",
    "    var_mu = 1. / 2.\n",
    "\n",
    "    r_i = sec(theta_i) * initial_distance\n",
    "    var_b = sin(theta_i) * r_i\n",
    "    \n",
    "    print(\"Calculate deg {0}\".format(str(degrees(theta_i))))\n",
    "\n",
    "    v_i = 1.0\n",
    "    d_t = 0.001\n",
    "\n",
    "    # Differential\n",
    "    d_pr = lambda r, p_theta, mu: - \\\n",
    "        (((r * p_theta**2) / mu) - (1 / r**2)) * d_t\n",
    "    d_r = lambda p_r, mu: (p_r / mu) * d_t\n",
    "    d_p_theta = 0\n",
    "    d_theta = lambda r, p_theta, mu: (p_theta / mu) * d_t\n",
    "\n",
    "    # Initialize iteration\n",
    "    theta = pi - theta_i\n",
    "    p_r = v_i * cos(theta)\n",
    "    p_theta = - v_i * sin(theta)\n",
    "    r = r_i\n",
    "\n",
    "    for x in range(1000):\n",
    "\n",
    "        p_r += d_pr(r, p_theta, var_mu)\n",
    "        r += d_r(p_r, var_mu)\n",
    "\n",
    "        theta += d_theta(r, p_theta, var_mu)\n",
    "\n",
    "        points_x.append(r * cos(theta))\n",
    "        points_y.append(r * sin(theta))\n",
    "\n",
    "    plt.ylabel('y')\n",
    "    plt.xlabel('x')\n",
    "    plt.plot(points_x[0:1], points_y[0:1], 'bo')\n",
    "    plt.plot(points_x, points_y, 'r--')\n",
    "    theta_i += radians(5.0)\n",
    "\n",
    "plt.plot([0], [0], 'go')\n",
    "plt.axis([-2, 1.2, -.2, 2])\n",
    "red_line = mpatches.Patch(color='red', label='path')\n",
    "blue_dot = mpatches.Patch(color='blue', label='starting point')\n",
    "green_dot = mpatches.Patch(color='green', label='center of interaction')\n",
    "plt.legend(handles=[red_line, blue_dot, green_dot])\n",
    "plt.grid(True)\n",
    "plt.figure()"
   ]
  },
  {
   "cell_type": "markdown",
   "metadata": {},
   "source": [
    "The major problems arouse from:\n",
    "\n",
    "* coordinate projections\n",
    "* differential equations and partial resolution of the problem"
   ]
  },
  {
   "cell_type": "markdown",
   "metadata": {},
   "source": [
    "In the simulation we used a *delta time* *millisecond* ($10^{-3}s$) and the distance can be misured in *nanometer* ($10^{-9}m$)."
   ]
  }
 ],
 "metadata": {
  "kernelspec": {
   "display_name": "Python 2",
   "language": "python",
   "name": "python2"
  },
  "language_info": {
   "codemirror_mode": {
    "name": "ipython",
    "version": 2
   },
   "file_extension": ".py",
   "mimetype": "text/x-python",
   "name": "python",
   "nbconvert_exporter": "python",
   "pygments_lexer": "ipython2",
   "version": "2.7.10"
  }
 },
 "nbformat": 4,
 "nbformat_minor": 0
}
